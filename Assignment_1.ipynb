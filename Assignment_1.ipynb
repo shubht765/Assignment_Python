{
 "cells": [
  {
   "cell_type": "markdown",
   "id": "b835e587",
   "metadata": {},
   "source": [
    "# Assignment_1# "
   ]
  },
  {
   "cell_type": "markdown",
   "id": "9c117b6a",
   "metadata": {},
   "source": [
    "#### 1. In the below elements which of them are values or an expression? eg:- values can be integer or string and expressions will     be mathematical operators.\n",
    "\n",
    "`*`,`'hello'`, `-87.8`,`-`,`/`,`+`,`6`\n",
    "\n",
    "#### Solution: \n",
    "There are a total of three Expressions  and  four Operators, those are :-\n",
    "          **-> Expressions:** `'hello'`, `87.8`,`6` \n",
    "          **-> Operators:** `*`,`-`,`/`,`+`\n",
    "# ---------------------------------------------------------------------------------------------------------------          \n"
   ]
  },
  {
   "cell_type": "markdown",
   "id": "48dd549c",
   "metadata": {},
   "source": [
    "\n",
    "#### 2. What is the difference between string and variable?\n",
    "\n",
    "**Solution :**\n",
    " A Variable is a reserved memory location to store values according to the data type, it is a way of referring to a storage area in a computer program . A String is a group of characters or a single character usually enclosed within either single quotes `' '` or Double quotes `\" \"`.\n",
    " # --------------------------------------------------------------------------------------------------------------"
   ]
  },
  {
   "cell_type": "markdown",
   "id": "b9a9fbf6",
   "metadata": {},
   "source": [
    "#### 3. Describe three different Data Types ?\n",
    "\n",
    "**Solution :** In python, we have 14 data types and they are classified into 6 types.\n",
    "\n",
    "**I) Fundamental Categery Data Types:**\n",
    "\n",
    "1. int\n",
    "\n",
    "2. float\n",
    "\n",
    "3. bool\n",
    "\n",
    "4. complex\n",
    "\n",
    "**II) Sequential Categery Data Types:**\n",
    "\n",
    "5. str\n",
    "\n",
    "6. bytes\n",
    "\n",
    "7. bytearray\n",
    "\n",
    "8. range\n",
    "\n",
    "**III) List Categery Data Types:**\n",
    "\n",
    "9. list\n",
    "\n",
    "10. tuple\n",
    "\n",
    "**IV) Set Categery Data Types:**\n",
    "\n",
    "11. set\n",
    "\n",
    "12. frozenset\n",
    "\n",
    "**V) Dict Categery Data Types:**\n",
    "\n",
    "13. dict\n",
    "\n",
    "**VI) None Type Categery Data Types:**\n",
    "\n",
    "14. nonetype\n",
    "# --------------------------------------------------------------------------------------------------------------\n"
   ]
  },
  {
   "cell_type": "markdown",
   "id": "9f46d04a",
   "metadata": {},
   "source": [
    "#### 4. What is an expression made up of? What do all expressions do?\n",
    "**Ans:** An expression is a combination of variables, operator or calls to function.\n",
    "    Expressions need to be evaluated. If we want  print an expression in python , the interpreter \n",
    "    evaluates the expression and displays the result. There are many types of expression as:-\n",
    "        **Constant Expressions:** ,**Arithmetic Expressions**,**Integral Expressions** ,**Floating Expressions**,**Logical Expressions**\n",
    "# --------------------------------------------------------------------------------------------------------------"
   ]
  },
  {
   "cell_type": "markdown",
   "id": "36efe9ae",
   "metadata": {},
   "source": [
    "#### 5.This assignment statements, like spam = 10. What is the difference between an expression and a statement?\n",
    "**Ans:** An expression is a combination of values, variables, and operators.When we give a expression at the notebook , \n",
    "the python interpreter evaluates it, which means that it finds the value of the expression.\n",
    "\n",
    "**eg:** 10+10 is a expression\n",
    "\n",
    "A statement is a part in a code that is where cration of a variable or displaying a value etc. When we type a statement,\n",
    "the interpreter executes it, which say please perform the requeted task it can be any thing such as assigment declaration or a instruction. statements do not have values of there own.\n",
    "\n",
    "**eg:** variable declaration and assignment  are statements \n",
    "\n",
    "# --------------------------------------------------------------------------------------------------------------"
   ]
  },
  {
   "cell_type": "markdown",
   "id": "9ef690f7",
   "metadata": {},
   "source": [
    "#### 6.After running the following code, what does the variable bacon contain?\n",
    "`bacon = 22`  \n",
    "`bacon + 1`\n",
    "\n",
    "**Ans:** 22 as there is no assignment done in the bacon"
   ]
  },
  {
   "cell_type": "code",
   "execution_count": 7,
   "id": "55e53d70",
   "metadata": {},
   "outputs": [
    {
     "name": "stdout",
     "output_type": "stream",
     "text": [
      "23\n"
     ]
    }
   ],
   "source": [
    "bacon=22\n",
    "bacon=bacon+1 \n",
    "print(bacon)"
   ]
  },
  {
   "cell_type": "markdown",
   "id": "f6470880",
   "metadata": {},
   "source": [
    "# --------------------------------------------------------------------------------------------------------------"
   ]
  },
  {
   "cell_type": "markdown",
   "id": "877da11e",
   "metadata": {},
   "source": [
    "#### 7.What should the values of the following two terms be?  \n",
    "`'spam'+'spamspam'`  \n",
    "`'spam'*3`\n",
    "\n",
    "**Ans:**  first expressions will be : **`'spamspamspam'`**  and second will also be same **`'spamspamspam'`**"
   ]
  },
  {
   "cell_type": "code",
   "execution_count": 9,
   "id": "7adb70f4",
   "metadata": {},
   "outputs": [
    {
     "name": "stdout",
     "output_type": "stream",
     "text": [
      "spamspamspam\n",
      "spamspamspam\n"
     ]
    }
   ],
   "source": [
    "print('spam'+'spamspam') # example of string concatenation\n",
    "print('spam'*3) # example of string multiplication"
   ]
  },
  {
   "cell_type": "markdown",
   "id": "31af5fd8",
   "metadata": {},
   "source": [
    "# --------------------------------------------------------------------------------------------------------------"
   ]
  },
  {
   "cell_type": "markdown",
   "id": "17953cec",
   "metadata": {},
   "source": [
    "#### 8. Why is eggs a valid variable name while 100 is invalid?\n",
    "**Ans:** As per python,Variable names cannot begin with a number. The python rules for naming a variable are :- \n",
    "1. Variable name must start with a letter or the underscore character.\n",
    "2. Variable name cannot start with a number.\n",
    "3. Variable name can only contain alpha-numeric characters and underscores (A-z, 0-9, & _ ).\n",
    "4. Variable names are case-sensitive (`Shubham`, `SHUBHAM` and `shubham` are three different variables).\n",
    "5. The keywords words cannot be used for naming the variable."
   ]
  },
  {
   "cell_type": "markdown",
   "id": "00d4948e",
   "metadata": {},
   "source": [
    "# --------------------------------------------------------------------------------------------------------------"
   ]
  },
  {
   "cell_type": "markdown",
   "id": "096f9935",
   "metadata": {},
   "source": [
    "#### 9.What three functions can be used to get the integer,floating-point number,or string version of a value?\n",
    "**Ans:** The `int()`,`float()`,and `str()` functions will evaluate to the integer,floating-point ,string  of the value passed to them."
   ]
  },
  {
   "cell_type": "markdown",
   "id": "f03551a2",
   "metadata": {},
   "source": [
    "# --------------------------------------------------------------------------------------------------------------"
   ]
  },
  {
   "cell_type": "markdown",
   "id": "a2661199",
   "metadata": {},
   "source": [
    "#### 10.Why does this expression cause an error? how can you fix it?  \n",
    "`'I have eaten ' + 99 + 'burritos.'`\n",
    "\n",
    "**Ans:** This  error is because of 99 it is not a string. 99 must be typecasted to be string to resolve this error. the correct way is:  \n"
   ]
  },
  {
   "cell_type": "code",
   "execution_count": 12,
   "id": "3609be74",
   "metadata": {},
   "outputs": [
    {
     "name": "stdout",
     "output_type": "stream",
     "text": [
      "I have eaten 99 burritos\n",
      "I have eaten 99 burritos\n"
     ]
    }
   ],
   "source": [
    "print('I have eaten '+'99'+' burritos')\n",
    "#or\n",
    "print('I have eaten '+str(99)+' burritos')"
   ]
  },
  {
   "cell_type": "markdown",
   "id": "cde3e346",
   "metadata": {},
   "source": [
    "# --------------------------------------------------------------------------------------------------------------"
   ]
  },
  {
   "cell_type": "code",
   "execution_count": null,
   "id": "3e322c96",
   "metadata": {},
   "outputs": [],
   "source": []
  }
 ],
 "metadata": {
  "kernelspec": {
   "display_name": "Python 3 (ipykernel)",
   "language": "python",
   "name": "python3"
  },
  "language_info": {
   "codemirror_mode": {
    "name": "ipython",
    "version": 3
   },
   "file_extension": ".py",
   "mimetype": "text/x-python",
   "name": "python",
   "nbconvert_exporter": "python",
   "pygments_lexer": "ipython3",
   "version": "3.9.7"
  }
 },
 "nbformat": 4,
 "nbformat_minor": 5
}
