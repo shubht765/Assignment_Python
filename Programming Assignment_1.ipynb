{
 "cells": [
  {
   "cell_type": "markdown",
   "id": "caf37f67",
   "metadata": {},
   "source": [
    "# Programming Assignment_1"
   ]
  },
  {
   "cell_type": "markdown",
   "id": "48188c60",
   "metadata": {},
   "source": [
    "#### 1.Write a Python program to print 'Hello Python' ?"
   ]
  },
  {
   "cell_type": "code",
   "execution_count": 1,
   "id": "7b42c720",
   "metadata": {},
   "outputs": [
    {
     "name": "stdout",
     "output_type": "stream",
     "text": [
      "Hello Python\n"
     ]
    }
   ],
   "source": [
    "print('Hello Python')"
   ]
  },
  {
   "cell_type": "markdown",
   "id": "fa06a498",
   "metadata": {},
   "source": [
    "#### 2.Write a Python program to do arithmetic operations addition and division ?"
   ]
  },
  {
   "cell_type": "code",
   "execution_count": 2,
   "id": "671f78a4",
   "metadata": {},
   "outputs": [
    {
     "name": "stdout",
     "output_type": "stream",
     "text": [
      "\n",
      "Enter 1st Number: 12\n",
      "Enter 2nd Number: 4\n",
      "addition of 12 and 4 is 16\n",
      "division of 12 and 4 is 3.0\n"
     ]
    }
   ],
   "source": [
    "import operator\n",
    "a = int(input('\\nEnter 1st Number: '))\n",
    "b = int(input('Enter 2nd Number: '))\n",
    "print('addition of {} and {} is {}'.format(a,b,operator.add(a,b)))\n",
    "print('division of {} and {} is {}'.format(a,b,operator.truediv(a,b)))"
   ]
  },
  {
   "cell_type": "markdown",
   "id": "ffea345a",
   "metadata": {},
   "source": [
    "#### 3.Write a Python program to find the area of a triangle ?"
   ]
  },
  {
   "cell_type": "code",
   "execution_count": 3,
   "id": "0d4c58e7",
   "metadata": {},
   "outputs": [
    {
     "name": "stdout",
     "output_type": "stream",
     "text": [
      "Enter height of triangle: 10\n",
      "Enter base of triangle: 5\n",
      "\n",
      "Area of triangle -> 25.0\n"
     ]
    }
   ],
   "source": [
    "height = int(input('Enter height of triangle: '))\n",
    "base = int(input('Enter base of triangle: '))\n",
    "\n",
    "def areaOfTriangle(height, base):\n",
    "    print('\\nArea of triangle ->', 0.5*height*base)\n",
    "\n",
    "areaOfTriangle(height,base)"
   ]
  },
  {
   "cell_type": "markdown",
   "id": "4d144dc1",
   "metadata": {},
   "source": [
    "#### 4.Write a Python program to swap two variables ?"
   ]
  },
  {
   "cell_type": "code",
   "execution_count": 4,
   "id": "a2672f8a",
   "metadata": {},
   "outputs": [
    {
     "name": "stdout",
     "output_type": "stream",
     "text": [
      "Enter First Number: 10\n",
      "Enter Second Number: 20\n",
      "Before swapping :  10 20\n",
      "After swapping :  20 10\n"
     ]
    }
   ],
   "source": [
    "num_1 = int(input(\"Enter First Number: \"))\n",
    "num_2 = int(input(\"Enter Second Number: \"))\n",
    "\n",
    "def swap(a,b):\n",
    "    temp = a\n",
    "    a = b\n",
    "    b = temp\n",
    "    return a,b\n",
    "\n",
    "print('Before swapping : ',num_1, num_2)\n",
    "num_1, num_2 = swap(num_1, num_2)\n",
    "print('After swapping : ',num_1,num_2)"
   ]
  },
  {
   "cell_type": "markdown",
   "id": "958ef58d",
   "metadata": {},
   "source": [
    "#### 5.Write a Python program to generate a random number ?"
   ]
  },
  {
   "cell_type": "code",
   "execution_count": 9,
   "id": "b1cdc89f",
   "metadata": {},
   "outputs": [
    {
     "name": "stdout",
     "output_type": "stream",
     "text": [
      "13396625\n",
      "Random number  37117824\n"
     ]
    }
   ],
   "source": [
    "import random\n",
    "\n",
    "a= random.randint(0,100000000)  # assigne to a veriable\n",
    "print(a)\n",
    "\n",
    "def  Random_Num(a,b):  # through a method as well\n",
    "    print('Random number ', random.randint(a,b)) \n",
    "Random_Num(98,78293788)"
   ]
  }
 ],
 "metadata": {
  "kernelspec": {
   "display_name": "Python 3 (ipykernel)",
   "language": "python",
   "name": "python3"
  },
  "language_info": {
   "codemirror_mode": {
    "name": "ipython",
    "version": 3
   },
   "file_extension": ".py",
   "mimetype": "text/x-python",
   "name": "python",
   "nbconvert_exporter": "python",
   "pygments_lexer": "ipython3",
   "version": "3.9.7"
  }
 },
 "nbformat": 4,
 "nbformat_minor": 5
}
