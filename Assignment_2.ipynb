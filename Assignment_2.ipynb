{
 "cells": [
  {
   "cell_type": "markdown",
   "id": "ad7a9256",
   "metadata": {},
   "source": [
    "# Assignment_2"
   ]
  },
  {
   "cell_type": "markdown",
   "id": "00768a02",
   "metadata": {},
   "source": [
    "#### 1.What are the two values of the boolean data types? how do you write them ?\n",
    "**Ans**:There are two data type of booolean value `True` and `False`. They are one which represent as 1 and 0 that is false is 0 and true as 1."
   ]
  },
  {
   "cell_type": "code",
   "execution_count": 1,
   "id": "7d130d79",
   "metadata": {},
   "outputs": [
    {
     "name": "stdout",
     "output_type": "stream",
     "text": [
      "True <class 'bool'>\n",
      "False <class 'bool'>\n",
      "a as true is  1\n",
      "b as fasle is 0\n"
     ]
    }
   ],
   "source": [
    "a=True\n",
    "b=False\n",
    "print(a,type(a))\n",
    "print(b,type(b))\n",
    "print('a as true is  {}'.format(int(a)))\n",
    "print('b as fasle is {}'.format(int(b)))"
   ]
  },
  {
   "cell_type": "markdown",
   "id": "a4544208",
   "metadata": {},
   "source": [
    "# ---------------------------------------------------------------------------------------------------------------"
   ]
  },
  {
   "cell_type": "markdown",
   "id": "16b6b3f1",
   "metadata": {},
   "source": [
    "#### 2. What are the three different types of Boolean operators?\n",
    "**Ans**: The three differnt types of Boolean operators are: `not`, `or` , `and` , so the result of boolean operator will always be true or false.\n",
    "\n",
    "**and** - when both the condition are true only then it will be true \n",
    "\n",
    "**or** - when any one is condition is true.\n",
    "\n",
    "**not** - invert the truth value of Boolean expressions and objects.means true will be false and fasle will be true."
   ]
  },
  {
   "cell_type": "code",
   "execution_count": 5,
   "id": "bd3c4253",
   "metadata": {
    "scrolled": true
   },
   "outputs": [
    {
     "name": "stdout",
     "output_type": "stream",
     "text": [
      "False\n",
      "False\n",
      "True\n"
     ]
    }
   ],
   "source": [
    "a=200\n",
    "b=100\n",
    "print(a>50 and b>100) # Example of  and\n",
    "print(a>200 or b>100) # Example of  or\n",
    "print(not(a<10)) # Example of  not"
   ]
  },
  {
   "cell_type": "markdown",
   "id": "ba341c33",
   "metadata": {},
   "source": [
    "# ---------------------------------------------------------------------------------------------------------------"
   ]
  },
  {
   "cell_type": "markdown",
   "id": "b8058921",
   "metadata": {},
   "source": [
    "#### 3. Make a list of each Boolean operator&#39;s truth tables (i.e. every possible combination of Boolean values for the operator and what it evaluate) ?\n",
    "**Ans:** The Truth tables for the boolean tables are as follows:   \n",
    "    \n",
    "* **Truth Table for `or` operaotor**  \n",
    "    _True and True is True   \n",
    "    True and False is True  \n",
    "    False and True is True  \n",
    "    False and False is False_\n",
    "    \n",
    "    \n",
    "* **Truth Table for `and` operaotor**  \n",
    "    _True and True is True   \n",
    "    True and False is False  \n",
    "    False and True is False  \n",
    "    False and False is False_\n",
    "    \n",
    "    \n",
    "* **Truth Table for `not` operaotor**        \n",
    "    _True not is False              \n",
    "    False not is True_"
   ]
  },
  {
   "cell_type": "markdown",
   "id": "d3113a00",
   "metadata": {},
   "source": [
    "# ---------------------------------------------------------------------------------------------------------------"
   ]
  },
  {
   "cell_type": "markdown",
   "id": "55c8fade",
   "metadata": {},
   "source": [
    "#### 4. What are the values of the following expressions ?\n",
    "* (5 &gt; 4) and (3 == 5)  \n",
    "* not (5 &gt; 4)  \n",
    "* (5 &gt; 4) or (3 == 5)  \n",
    "* not ((5 &gt; 4) or (3 == 5))  \n",
    "* (True and True) and (True == False)  \n",
    "* (not False) or (not True)  "
   ]
  },
  {
   "cell_type": "code",
   "execution_count": 6,
   "id": "73864da6",
   "metadata": {},
   "outputs": [
    {
     "name": "stdout",
     "output_type": "stream",
     "text": [
      "False\n",
      "False\n",
      "True\n",
      "False\n",
      "False\n",
      "True\n"
     ]
    }
   ],
   "source": [
    "print((5>4)and(3==5)) # False\n",
    "print(not(5>4)) # False\n",
    "print((5>4)or(3==5)) # True\n",
    "print(not((5>4)or(3==5))) # False\n",
    "print((True and True)and(True==False)) # False\n",
    "print((not False)or(not True)) # True"
   ]
  },
  {
   "cell_type": "markdown",
   "id": "a7ef73d5",
   "metadata": {},
   "source": [
    "# ---------------------------------------------------------------------------------------------------------------"
   ]
  },
  {
   "cell_type": "markdown",
   "id": "60e6c5fd",
   "metadata": {},
   "source": [
    "#### 5. What are the six comparison operators?\n",
    "**Ans:**  The Six comparision operators available are as follow:  \n",
    "`==` , `!=` , `<` , `>` , `<=` , `=>`"
   ]
  },
  {
   "cell_type": "markdown",
   "id": "e57800aa",
   "metadata": {},
   "source": [
    "# ---------------------------------------------------------------------------------------------------------------"
   ]
  },
  {
   "cell_type": "markdown",
   "id": "6e786c1e",
   "metadata": {},
   "source": [
    "#### 6. How do you tell the difference between the equal to and assignment operators?Describe a condition and when you would use one ? \n",
    "**Ans:** `==` is the equal to operator that compares two veriableor memory ponits and evaluates to a Boolean value, while `=` is that assignment operator which assigne a data in a variable.\n"
   ]
  },
  {
   "cell_type": "code",
   "execution_count": 7,
   "id": "ef62bae3",
   "metadata": {},
   "outputs": [
    {
     "name": "stdout",
     "output_type": "stream",
     "text": [
      "False\n"
     ]
    }
   ],
   "source": [
    "a=100 # Assigning operator\n",
    "if a==100 :# Equals to comparision operator\n",
    "    print(a==3)  "
   ]
  },
  {
   "cell_type": "markdown",
   "id": "d9da4a03",
   "metadata": {},
   "source": [
    "# ---------------------------------------------------------------------------------------------------------------"
   ]
  },
  {
   "cell_type": "markdown",
   "id": "43fcaf17",
   "metadata": {},
   "source": [
    "#### 7. Identify the three blocks in this code:\n",
    "spam = 0  \n",
    "if spam == 10:  \n",
    "print('eggs')  \n",
    "if spam > 5:  \n",
    "print('bacon')  \n",
    "else:  \n",
    "print('ham')  \n",
    "print('spam')  \n",
    "print('spam')\n",
    "\n",
    "**Ans**: In Python, Indentation is used to define a block of code in python So a code block refers to a collection of code that is in the same block or indent."
   ]
  },
  {
   "cell_type": "code",
   "execution_count": 11,
   "id": "c61c552b",
   "metadata": {},
   "outputs": [
    {
     "name": "stdout",
     "output_type": "stream",
     "text": [
      "ham\n",
      "spam\n",
      "spam\n"
     ]
    }
   ],
   "source": [
    "spam = 0\n",
    "if spam == 10:\n",
    "    print('eggs')\n",
    "if spam > 5:\n",
    "    print('bacon')\n",
    "else:\n",
    "    print('ham')\n",
    "    print('spam')\n",
    "    print('spam')"
   ]
  },
  {
   "cell_type": "markdown",
   "id": "f55003e6",
   "metadata": {},
   "source": [
    "# ---------------------------------------------------------------------------------------------------------------"
   ]
  },
  {
   "cell_type": "markdown",
   "id": "a4ffc0aa",
   "metadata": {},
   "source": [
    "#### 8. Write code that prints Hello if 1 is stored in spam, prints Howdy if 2 is stored in spam, and prints Greetings! if anything else is stored in spam.\n"
   ]
  },
  {
   "cell_type": "code",
   "execution_count": 12,
   "id": "eab2a8c4",
   "metadata": {},
   "outputs": [
    {
     "name": "stdout",
     "output_type": "stream",
     "text": [
      "Hello\n",
      "Howdy\n",
      "Greetings\n"
     ]
    }
   ],
   "source": [
    "def code(spam):\n",
    "    if spam==1:\n",
    "        print('Hello')\n",
    "    elif spam==2:\n",
    "        print('Howdy')\n",
    "    else:\n",
    "        print('Greetings')\n",
    "\n",
    "code(1)\n",
    "code(2)\n",
    "code(3)"
   ]
  },
  {
   "cell_type": "markdown",
   "id": "2df2627e",
   "metadata": {},
   "source": [
    "# ---------------------------------------------------------------------------------------------------------------"
   ]
  },
  {
   "cell_type": "markdown",
   "id": "b22756bd",
   "metadata": {},
   "source": [
    "#### 9.If your programme is stuck in an endless loop, what keys you’ll press?\n",
    "**Ans:** `Ctrl-c` to stop a program stuck in an infinite loop.or  restart kernel."
   ]
  },
  {
   "cell_type": "markdown",
   "id": "391a0d1b",
   "metadata": {},
   "source": [
    "# ---------------------------------------------------------------------------------------------------------------"
   ]
  },
  {
   "attachments": {},
   "cell_type": "markdown",
   "id": "64d23f3f",
   "metadata": {},
   "source": [
    "#### 10. How can you tell the difference between break and continue?\n",
    "**Ans:**  `break` is a loop controller statement and will move the execution outside the loop if break condtion is True sp break works on boolen condition. Whereas the `continue` is also a is a loop controller  statement and will move the execution to the start of the loop from the top again."
   ]
  },
  {
   "cell_type": "markdown",
   "id": "e28b31a4",
   "metadata": {},
   "source": [
    "# ---------------------------------------------------------------------------------------------------------------"
   ]
  },
  {
   "cell_type": "markdown",
   "id": "471c5daf",
   "metadata": {},
   "source": [
    "#### 11. In a for loop, what is the difference between range(10), range(0, 10), and range(0, 10, 1)?\n",
    "**Ans:** The Differences are:\n",
    "1. The _**range(10)**_ call range from 0 to 9 (but not include 10)  \n",
    "2. The _**range (0,10)**_ call range from 0 to 9 to start at 0 and end at 9 so 0 to 9. \n",
    "3. The _**range(0,10,1)**_ call range from 0 to 9 with the jump of 1 veriable.   "
   ]
  },
  {
   "cell_type": "code",
   "execution_count": 28,
   "id": "8d91f638",
   "metadata": {},
   "outputs": [
    {
     "name": "stdout",
     "output_type": "stream",
     "text": [
      "[0, 1, 2, 3, 4, 5, 6, 7, 8, 9]\n",
      "[0, 1, 2, 3, 4, 5, 6, 7, 8, 9]\n",
      "[0, 1, 2, 3, 4, 5, 6, 7, 8, 9]\n"
     ]
    }
   ],
   "source": [
    "print ([mylist for mylist in range(10)]) # with range(10)\n",
    "print ([mylist for mylist in range (0,10)])# with range (0,10)\n",
    "print ([mylist for mylist in range(0,10,1)])# with range(0,10,1)"
   ]
  },
  {
   "cell_type": "markdown",
   "id": "fdd2431f",
   "metadata": {},
   "source": [
    "# ---------------------------------------------------------------------------------------------------------------"
   ]
  },
  {
   "cell_type": "markdown",
   "id": "49603854",
   "metadata": {},
   "source": [
    "#### 12. Write a short program that prints the numbers 1 to 10 using a for loop. Then write an equivalent program that prints the numbers 1 to 10 using a while loop ? "
   ]
  },
  {
   "cell_type": "code",
   "execution_count": 34,
   "id": "7883dd56",
   "metadata": {},
   "outputs": [
    {
     "name": "stdout",
     "output_type": "stream",
     "text": [
      "--------------- Using For Loop ---------------\n",
      "1\n",
      "2\n",
      "3\n",
      "4\n",
      "5\n",
      "6\n",
      "7\n",
      "8\n",
      "9\n",
      "10\n",
      "\n",
      "\n",
      "--------------- Using While Loop ---------------\n",
      "1\n",
      "2\n",
      "3\n",
      "4\n",
      "5\n",
      "6\n",
      "7\n",
      "8\n",
      "9\n",
      "10\n"
     ]
    }
   ],
   "source": [
    "print('-'*15,'Using For Loop','-'*15)\n",
    "for i in range(1,11):\n",
    "       print(i)\n",
    "print('\\n')\n",
    "print('-'*15,'Using While Loop','-'*15) \n",
    "a=1\n",
    "while a<=10:\n",
    "    print(a)\n",
    "    a+=1"
   ]
  },
  {
   "cell_type": "markdown",
   "id": "b29ac4c2",
   "metadata": {},
   "source": [
    "# ---------------------------------------------------------------------------------------------------------------"
   ]
  },
  {
   "cell_type": "markdown",
   "id": "a1f6dd58",
   "metadata": {},
   "source": [
    "#### 13. If you had a function named bacon() inside a module named spam, how would you call it after importing spam ?\n",
    "**Ans:** It will be called as `spam.bacon()`"
   ]
  },
  {
   "cell_type": "markdown",
   "id": "9bad52d1",
   "metadata": {},
   "source": [
    "# ---------------------------------------------------------------------------------------------------------------"
   ]
  }
 ],
 "metadata": {
  "kernelspec": {
   "display_name": "Python 3 (ipykernel)",
   "language": "python",
   "name": "python3"
  },
  "language_info": {
   "codemirror_mode": {
    "name": "ipython",
    "version": 3
   },
   "file_extension": ".py",
   "mimetype": "text/x-python",
   "name": "python",
   "nbconvert_exporter": "python",
   "pygments_lexer": "ipython3",
   "version": "3.9.7"
  }
 },
 "nbformat": 4,
 "nbformat_minor": 5
}
